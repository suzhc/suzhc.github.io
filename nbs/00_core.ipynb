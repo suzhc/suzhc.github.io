{
 "cells": [
  {
   "cell_type": "markdown",
   "metadata": {},
   "source": [
    "# core\n",
    "\n",
    "> Blog Tools"
   ]
  },
  {
   "cell_type": "code",
   "execution_count": 1,
   "metadata": {},
   "outputs": [],
   "source": [
    "#| default_exp core"
   ]
  },
  {
   "cell_type": "code",
   "execution_count": 2,
   "metadata": {},
   "outputs": [],
   "source": [
    "#| export\n",
    "import nbformat as nbf\n",
    "from fastcore.script import *\n",
    "from pathlib import Path\n",
    "from datetime import datetime\n",
    "\n",
    "\n",
    "@call_parse\n",
    "def create_ipynb(path: str, base_path: str = None):\n",
    "    '''\n",
    "    根据一个名称（例如：“my-first-blog”）,创建对应地 post 文件夹，以及对应的文件\n",
    "    '''\n",
    "    date = datetime.now().date().strftime(\"%Y-%m-%d\")\n",
    "    path = f'{date}-{path}'\n",
    "    path = Path('nbs/blog/posts') / Path(path)\n",
    "    if base_path:\n",
    "        path = Path(base_path) / path\n",
    "    path.mkdir(parents=True, exist_ok=True)\n",
    "    \n",
    "    nb = nbf.v4.new_notebook()\n",
    "    nbf.write(nb, path / f'{path.name}.ipynb')\n",
    "        \n"
   ]
  },
  {
   "cell_type": "code",
   "execution_count": 3,
   "metadata": {},
   "outputs": [
    {
     "name": "stdout",
     "output_type": "stream",
     "text": [
      "\u001b[01;34m../nbs/blog/posts\u001b[00m\n",
      "├── \u001b[01;34m2019-12-24-git-notes-3\u001b[00m\n",
      "│   └── 2019-12-24-git-notes-3.qmd\n",
      "├── \u001b[01;34m2019-12-25-git-notes-4\u001b[00m\n",
      "│   └── 2019-12-25-git-notes-4.qmd\n",
      "├── \u001b[01;34m2019-12-28-pyqt-simple-GUI-program\u001b[00m\n",
      "│   ├── 1.webp\n",
      "│   ├── 2.webp\n",
      "│   ├── 2019-12-28-pyqt-simple-GUI-program.qmd\n",
      "│   ├── 3.webp\n",
      "│   ├── 4.webp\n",
      "│   ├── 5.webp\n",
      "│   ├── 6.webp\n",
      "│   ├── 7.webp\n",
      "│   └── 8.webp\n",
      "├── \u001b[01;34m2019-12-28-stochasitic-process-notes-1\u001b[00m\n",
      "│   └── 2019-12-28-stochasitic-process-notes-1.qmd\n",
      "├── \u001b[01;34m2020-01-14-git-notes-5\u001b[00m\n",
      "│   └── 2020-01-14-git-notes-5.qmd\n",
      "├── \u001b[01;34m2020-01-20-stochasitic-process-3\u001b[00m\n",
      "│   └── 2020-01-20-stochasitic-process-3.qmd\n",
      "├── \u001b[01;34m2020-04-15-CT-principles-notes\u001b[00m\n",
      "│   ├── 2020-04-15-CT-principles-notes.qmd\n",
      "│   └── CT_3.png\n",
      "├── \u001b[01;34m2024-07-10-create-requirements_txt-for-python-proj\u001b[00m\n",
      "│   └── 2024-07-10-create-requirements_txt-for-python-proj.qmd\n",
      "└── \u001b[01;34m2024-08-08-test\u001b[00m\n",
      "    └── 2024-08-08-test.ipynb\n",
      "\n",
      "9 directories, 18 files\n"
     ]
    }
   ],
   "source": [
    "#| eval: false\n",
    "\n",
    "create_ipynb('test', '/teamspace/studios/this_studio/suzhc.github.io')\n",
    "!tree -L 2 ../nbs/blog/posts"
   ]
  },
  {
   "cell_type": "code",
   "execution_count": 4,
   "metadata": {},
   "outputs": [],
   "source": [
    "#| hide\n",
    "#| eval: false\n",
    "!rm -r ../nbs/blog/posts/2024-08-08-test"
   ]
  },
  {
   "cell_type": "code",
   "execution_count": 5,
   "metadata": {},
   "outputs": [],
   "source": [
    "#|hide\n",
    "import nbdev; nbdev.nbdev_export()"
   ]
  }
 ],
 "metadata": {
  "kernelspec": {
   "display_name": "Python 3",
   "language": "python",
   "name": "python3"
  },
  "language_info": {
   "codemirror_mode": {
    "name": "ipython",
    "version": 3
   },
   "file_extension": ".py",
   "mimetype": "text/x-python",
   "name": "python",
   "nbconvert_exporter": "python",
   "pygments_lexer": "ipython3",
   "version": "3.10.10"
  }
 },
 "nbformat": 4,
 "nbformat_minor": 4
}
